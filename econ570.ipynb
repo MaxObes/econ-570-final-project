{
 "cells": [
  {
   "cell_type": "markdown",
   "id": "d1e2fe94-f9f9-405c-a0d0-37733024929d",
   "metadata": {},
   "source": [
    "# Beginning of Project"
   ]
  },
  {
   "cell_type": "code",
   "execution_count": 3,
   "id": "841dd462-cd9c-469c-9685-84a761a49975",
   "metadata": {},
   "outputs": [],
   "source": [
    "import os\n",
    "import zipfile\n",
    "import pandas as pd\n",
    "import pyarrow as pa\n",
    "import pyarrow.csv"
   ]
  },
  {
   "cell_type": "code",
   "execution_count": 4,
   "id": "a8b2fb4f-4091-411a-8e26-4cb93688f96a",
   "metadata": {},
   "outputs": [
    {
     "name": "stdout",
     "output_type": "stream",
     "text": [
      "Extracted CSV: P00000001-ALL.csv\n"
     ]
    }
   ],
   "source": [
    "# Open the merged ZIP file and extract the CSV\n",
    "output_file = \"P00000001-ALL.zip\"\n",
    "with zipfile.ZipFile(output_file, \"r\") as zip_ref:\n",
    "    csv_filename = \"P00000001-ALL.csv\"\n",
    "    csv_data = zip_ref.read(csv_filename)#.decode(\"utf-8\")  # Read CSV as text\n",
    "\n",
    "print(f\"Extracted CSV: {csv_filename}\")\n",
    "df = pa.csv.read_csv(pa.BufferReader(csv_data)).to_pandas()"
   ]
  },
  {
   "cell_type": "code",
   "execution_count": 5,
   "id": "60194d58",
   "metadata": {},
   "outputs": [
    {
     "data": {
      "text/html": [
       "<div>\n",
       "<style scoped>\n",
       "    .dataframe tbody tr th:only-of-type {\n",
       "        vertical-align: middle;\n",
       "    }\n",
       "\n",
       "    .dataframe tbody tr th {\n",
       "        vertical-align: top;\n",
       "    }\n",
       "\n",
       "    .dataframe thead th {\n",
       "        text-align: right;\n",
       "    }\n",
       "</style>\n",
       "<table border=\"1\" class=\"dataframe\">\n",
       "  <thead>\n",
       "    <tr style=\"text-align: right;\">\n",
       "      <th></th>\n",
       "      <th>cmte_id</th>\n",
       "      <th>cand_id</th>\n",
       "      <th>cand_nm</th>\n",
       "      <th>contbr_st</th>\n",
       "      <th>contbr_zip</th>\n",
       "      <th>contb_receipt_amt</th>\n",
       "      <th>contb_receipt_dt</th>\n",
       "      <th>election_tp</th>\n",
       "    </tr>\n",
       "  </thead>\n",
       "  <tbody>\n",
       "    <tr>\n",
       "      <th>0</th>\n",
       "      <td>C00540302</td>\n",
       "      <td>P40012155</td>\n",
       "      <td>Scott, Timothy E.</td>\n",
       "      <td>AK</td>\n",
       "      <td>99567</td>\n",
       "      <td>100.0</td>\n",
       "      <td>28-JUN-23</td>\n",
       "      <td>P2024</td>\n",
       "    </tr>\n",
       "    <tr>\n",
       "      <th>1</th>\n",
       "      <td>C00540302</td>\n",
       "      <td>P40012155</td>\n",
       "      <td>Scott, Timothy E.</td>\n",
       "      <td>AK</td>\n",
       "      <td>99518</td>\n",
       "      <td>30.0</td>\n",
       "      <td>25-JUN-23</td>\n",
       "      <td>P2024</td>\n",
       "    </tr>\n",
       "    <tr>\n",
       "      <th>2</th>\n",
       "      <td>C00540302</td>\n",
       "      <td>P40012155</td>\n",
       "      <td>Scott, Timothy E.</td>\n",
       "      <td>AK</td>\n",
       "      <td>99611</td>\n",
       "      <td>50.0</td>\n",
       "      <td>04-APR-23</td>\n",
       "      <td>P2028</td>\n",
       "    </tr>\n",
       "    <tr>\n",
       "      <th>3</th>\n",
       "      <td>C00540302</td>\n",
       "      <td>P40012155</td>\n",
       "      <td>Scott, Timothy E.</td>\n",
       "      <td>AK</td>\n",
       "      <td>99611</td>\n",
       "      <td>-50.0</td>\n",
       "      <td>12-APR-23</td>\n",
       "      <td>P2028</td>\n",
       "    </tr>\n",
       "    <tr>\n",
       "      <th>4</th>\n",
       "      <td>C00540302</td>\n",
       "      <td>P40012155</td>\n",
       "      <td>Scott, Timothy E.</td>\n",
       "      <td>AK</td>\n",
       "      <td>99611</td>\n",
       "      <td>50.0</td>\n",
       "      <td>12-APR-23</td>\n",
       "      <td>P2024</td>\n",
       "    </tr>\n",
       "  </tbody>\n",
       "</table>\n",
       "</div>"
      ],
      "text/plain": [
       "     cmte_id    cand_id            cand_nm contbr_st contbr_zip  \\\n",
       "0  C00540302  P40012155  Scott, Timothy E.        AK      99567   \n",
       "1  C00540302  P40012155  Scott, Timothy E.        AK      99518   \n",
       "2  C00540302  P40012155  Scott, Timothy E.        AK      99611   \n",
       "3  C00540302  P40012155  Scott, Timothy E.        AK      99611   \n",
       "4  C00540302  P40012155  Scott, Timothy E.        AK      99611   \n",
       "\n",
       "   contb_receipt_amt contb_receipt_dt election_tp  \n",
       "0              100.0        28-JUN-23       P2024  \n",
       "1               30.0        25-JUN-23       P2024  \n",
       "2               50.0        04-APR-23       P2028  \n",
       "3              -50.0        12-APR-23       P2028  \n",
       "4               50.0        12-APR-23       P2024  "
      ]
     },
     "execution_count": 5,
     "metadata": {},
     "output_type": "execute_result"
    }
   ],
   "source": [
    "df.iloc[:5]"
   ]
  }
 ],
 "metadata": {
  "kernelspec": {
   "display_name": "base",
   "language": "python",
   "name": "python3"
  },
  "language_info": {
   "codemirror_mode": {
    "name": "ipython",
    "version": 3
   },
   "file_extension": ".py",
   "mimetype": "text/x-python",
   "name": "python",
   "nbconvert_exporter": "python",
   "pygments_lexer": "ipython3",
   "version": "3.11.5"
  }
 },
 "nbformat": 4,
 "nbformat_minor": 5
}
