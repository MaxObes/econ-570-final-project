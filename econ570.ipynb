{
 "cells": [
  {
   "cell_type": "markdown",
   "id": "d1e2fe94-f9f9-405c-a0d0-37733024929d",
   "metadata": {},
   "source": [
    "# Beginning of Project"
   ]
  },
  {
   "cell_type": "code",
   "execution_count": null,
   "id": "54d165f8-62d4-4d85-a06b-ba41b2379964",
   "metadata": {},
   "outputs": [],
   "source": []
  }
 ],
 "metadata": {
  "kernelspec": {
   "display_name": "Python 3 (ipykernel)",
   "language": "python",
   "name": "python3"
  },
  "language_info": {
   "codemirror_mode": {
    "name": "ipython",
    "version": 3
   },
   "file_extension": ".py",
   "mimetype": "text/x-python",
   "name": "python",
   "nbconvert_exporter": "python",
   "pygments_lexer": "ipython3",
   "version": "3.12.4"
  }
 },
 "nbformat": 4,
 "nbformat_minor": 5
}
